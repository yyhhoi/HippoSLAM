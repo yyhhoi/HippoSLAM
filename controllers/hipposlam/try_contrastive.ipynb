{
 "cells": [
  {
   "cell_type": "code",
   "execution_count": 1,
   "outputs": [],
   "source": [
    "import torch\n",
    "import math\n",
    "from pycircstat.descriptive import cdiff\n",
    "from hipposlam.DataLoaders import ContrastiveEmbeddingDataloader\n",
    "\n",
    "\n",
    "dataloader = ContrastiveEmbeddingDataloader('data/VAE/annotations2.csv', 'data/VAE/embeds2', 32, [0, 8000])\n",
    "\n"
   ],
   "metadata": {
    "collapsed": false,
    "ExecuteTime": {
     "start_time": "2024-03-17T10:17:31.887615Z",
     "end_time": "2024-03-17T10:17:36.761350Z"
    }
   }
  },
  {
   "cell_type": "code",
   "execution_count": 2,
   "outputs": [
    {
     "data": {
      "text/plain": "8000"
     },
     "execution_count": 2,
     "metadata": {},
     "output_type": "execute_result"
    }
   ],
   "source": [
    "len(dataloader)"
   ],
   "metadata": {
    "collapsed": false,
    "ExecuteTime": {
     "start_time": "2024-03-17T10:17:36.766633Z",
     "end_time": "2024-03-17T10:17:36.774134Z"
    }
   }
  },
  {
   "cell_type": "code",
   "execution_count": 3,
   "outputs": [
    {
     "name": "stdout",
     "output_type": "stream",
     "text": [
      "8000\n"
     ]
    }
   ],
   "source": [
    "for data, masks in dataloader.iterate():\n",
    "    break"
   ],
   "metadata": {
    "collapsed": false,
    "ExecuteTime": {
     "start_time": "2024-03-17T10:17:36.775584Z",
     "end_time": "2024-03-17T10:17:36.783265Z"
    }
   }
  },
  {
   "cell_type": "code",
   "execution_count": 24,
   "outputs": [
    {
     "data": {
      "text/plain": "tensor([[ -3.2405,   1.2410,  -1.8222],\n        [-15.6609,   1.8507,   2.5721],\n        [ -7.1368,   8.6791,   2.2646],\n        [ -2.7285,  -8.1216,  -1.5723],\n        [ -0.3038,   0.8466,  -2.4969],\n        [ -4.5714,   1.9548,  -0.7829],\n        [ -5.7717,  15.9818,   1.5724],\n        [ -0.1300,  -6.8448,  -3.1025],\n        [ -0.6458,   2.4312,   1.8557],\n        [ -2.8518,  -0.3105,   0.6447],\n        [ -0.8175,  -4.0785,   2.4012],\n        [ -9.4129,   0.7393,   1.5683],\n        [  3.6546,   2.4224,  -1.8217],\n        [ -1.5883,  -3.7874,  -2.5772],\n        [ -2.9009,   4.0978,  -2.3104],\n        [ -2.8322,   1.5540,  -2.7772],\n        [ -5.0726,   3.7732,  -2.0341],\n        [ -6.7394,   5.5199,   1.3050],\n        [ -9.2867,   3.9579,  -1.2038],\n        [  0.1815,  -1.7132,  -2.1858],\n        [ -0.9093,  -0.4236,  -0.0302],\n        [ -9.8570,   6.7360,  -1.8018],\n        [ -3.4154,   4.8863,  -2.3703],\n        [ -0.2710,   1.0543,   0.5954],\n        [-15.1525,  13.6749,   0.2120],\n        [ -3.5988,   2.2002,   2.3482],\n        [ -3.0001,   5.0000,   0.9269],\n        [ -7.5246,   1.7261,  -2.9072],\n        [ -0.5955,  -3.4279,  -1.6727],\n        [  1.1935,  -7.0406,  -0.9330],\n        [ -1.9626,  11.5214,   3.0317],\n        [  0.5178,  -1.4038,  -1.8373]], dtype=torch.float64)"
     },
     "execution_count": 24,
     "metadata": {},
     "output_type": "execute_result"
    }
   ],
   "source": [
    "labels = data[1]\n",
    "labels"
   ],
   "metadata": {
    "collapsed": false,
    "ExecuteTime": {
     "start_time": "2024-03-17T09:57:43.319624Z",
     "end_time": "2024-03-17T09:57:43.342457Z"
    }
   }
  },
  {
   "cell_type": "code",
   "execution_count": 27,
   "outputs": [
    {
     "data": {
      "text/plain": "torch.Size([32, 32])"
     },
     "execution_count": 27,
     "metadata": {},
     "output_type": "execute_result"
    }
   ],
   "source": [
    "torch.cdist(labels, labels).shape"
   ],
   "metadata": {
    "collapsed": false,
    "ExecuteTime": {
     "start_time": "2024-03-17T09:57:56.220836Z",
     "end_time": "2024-03-17T09:57:56.229200Z"
    }
   }
  },
  {
   "cell_type": "code",
   "execution_count": 29,
   "outputs": [
    {
     "data": {
      "text/plain": "tensor([[ 0.0000e+00, -5.9450e-01, -3.4280e+00,  1.5941e-01],\n        [ 1.0000e+00,  7.3239e-01, -4.6418e+00, -7.9862e-01],\n        [ 2.0000e+00,  1.3416e-01, -5.0026e+00, -2.8228e+00],\n        ...,\n        [ 1.0029e+04, -1.5864e+01,  2.5562e-01, -2.6548e+00],\n        [ 1.0030e+04, -1.5879e+01, -2.7449e-01, -1.9244e+00],\n        [ 1.0031e+04, -1.5250e+01, -1.6071e+00, -1.2514e+00]],\n       dtype=torch.float64)"
     },
     "execution_count": 29,
     "metadata": {},
     "output_type": "execute_result"
    }
   ],
   "source": [
    "import pandas as pd\n",
    "\n",
    "df = pd.read_csv('data/VAE/annotations2.csv', header=0)\n",
    "\n",
    "torch.from_numpy(df.to_numpy())"
   ],
   "metadata": {
    "collapsed": false,
    "ExecuteTime": {
     "start_time": "2024-03-17T10:00:58.105937Z",
     "end_time": "2024-03-17T10:00:58.122534Z"
    }
   }
  },
  {
   "cell_type": "code",
   "execution_count": 30,
   "outputs": [],
   "source": [
    "data = torch.rand(32, 3) * torch.pi * 2 - torch.pi\n",
    "x, y, a = data[:, 0], data[:, 1], data[:, 2]\n",
    "\n",
    "xmin, ymin = torch.min(data[:, [0, 1]], dim=0)[0]\n",
    "xmax, ymax = torch.max(data[:, [0, 1]], dim=0)[0]\n",
    "xnorm = (x-xmin)/(xmax-xmin)\n",
    "ynorm = (y-ymin)/(ymax-ymin)\n",
    "adiff = cdiff(a.reshape(-1, 1), a.reshape(1, -1)) / torch.pi"
   ],
   "metadata": {
    "collapsed": false,
    "ExecuteTime": {
     "start_time": "2024-03-17T10:00:58.965252Z",
     "end_time": "2024-03-17T10:00:58.997955Z"
    }
   }
  },
  {
   "cell_type": "code",
   "execution_count": 31,
   "outputs": [
    {
     "ename": "NameError",
     "evalue": "name 'dist_thresh' is not defined",
     "output_type": "error",
     "traceback": [
      "\u001B[1;31m---------------------------------------------------------------------------\u001B[0m",
      "\u001B[1;31mNameError\u001B[0m                                 Traceback (most recent call last)",
      "Cell \u001B[1;32mIn[31], line 2\u001B[0m\n\u001B[0;32m      1\u001B[0m posdist \u001B[38;5;241m=\u001B[39m torch\u001B[38;5;241m.\u001B[39msqrt((xnorm\u001B[38;5;241m.\u001B[39mreshape(\u001B[38;5;241m-\u001B[39m\u001B[38;5;241m1\u001B[39m, \u001B[38;5;241m1\u001B[39m) \u001B[38;5;241m-\u001B[39m xnorm\u001B[38;5;241m.\u001B[39mreshape(\u001B[38;5;241m1\u001B[39m, \u001B[38;5;241m-\u001B[39m\u001B[38;5;241m1\u001B[39m)) \u001B[38;5;241m*\u001B[39m\u001B[38;5;241m*\u001B[39m \u001B[38;5;241m2\u001B[39m \u001B[38;5;241m+\u001B[39m (ynorm\u001B[38;5;241m.\u001B[39mreshape(\u001B[38;5;241m-\u001B[39m\u001B[38;5;241m1\u001B[39m, \u001B[38;5;241m1\u001B[39m) \u001B[38;5;241m-\u001B[39m ynorm\u001B[38;5;241m.\u001B[39mreshape(\u001B[38;5;241m1\u001B[39m, \u001B[38;5;241m-\u001B[39m\u001B[38;5;241m1\u001B[39m)) \u001B[38;5;241m*\u001B[39m\u001B[38;5;241m*\u001B[39m \u001B[38;5;241m2\u001B[39m) \u001B[38;5;241m/\u001B[39m math\u001B[38;5;241m.\u001B[39msqrt(\u001B[38;5;241m2\u001B[39m)\n\u001B[1;32m----> 2\u001B[0m sim_mask_tmp \u001B[38;5;241m=\u001B[39m ((posdist \u001B[38;5;241m<\u001B[39m dist_thresh) \u001B[38;5;241m&\u001B[39m (adiff \u001B[38;5;241m<\u001B[39m adiff_thresh))\u001B[38;5;241m.\u001B[39mto(torch\u001B[38;5;241m.\u001B[39muint8)\n\u001B[0;32m      3\u001B[0m no_diag_mask \u001B[38;5;241m=\u001B[39m \u001B[38;5;241m1\u001B[39m \u001B[38;5;241m-\u001B[39m torch\u001B[38;5;241m.\u001B[39meye(sim_mask_tmp\u001B[38;5;241m.\u001B[39mshape[\u001B[38;5;241m0\u001B[39m])\u001B[38;5;241m.\u001B[39mto(torch\u001B[38;5;241m.\u001B[39muint8)\n\u001B[0;32m      4\u001B[0m sim_mask \u001B[38;5;241m=\u001B[39m sim_mask_tmp \u001B[38;5;241m&\u001B[39m no_diag_mask\n",
      "\u001B[1;31mNameError\u001B[0m: name 'dist_thresh' is not defined"
     ]
    }
   ],
   "source": [
    "posdist = torch.sqrt((xnorm.reshape(-1, 1) - xnorm.reshape(1, -1)) ** 2 + (ynorm.reshape(-1, 1) - ynorm.reshape(1, -1)) ** 2) / math.sqrt(2)\n",
    "sim_mask_tmp = ((posdist < dist_thresh) & (adiff < adiff_thresh)).to(torch.uint8)\n",
    "no_diag_mask = 1 - torch.eye(sim_mask_tmp.shape[0]).to(torch.uint8)\n",
    "sim_mask = sim_mask_tmp & no_diag_mask\n",
    "dissim_mask = 1 - sim_mask_tmp\n",
    "\n",
    "plt.imshow(sim_mask)\n",
    "plt.colorbar()"
   ],
   "metadata": {
    "collapsed": false,
    "ExecuteTime": {
     "start_time": "2024-03-17T08:12:59.524936Z",
     "end_time": "2024-03-17T08:12:59.745116Z"
    }
   }
  },
  {
   "cell_type": "code",
   "execution_count": 28,
   "outputs": [
    {
     "ename": "NameError",
     "evalue": "name 'sim_mask' is not defined",
     "output_type": "error",
     "traceback": [
      "\u001B[1;31m---------------------------------------------------------------------------\u001B[0m",
      "\u001B[1;31mNameError\u001B[0m                                 Traceback (most recent call last)",
      "Cell \u001B[1;32mIn[28], line 1\u001B[0m\n\u001B[1;32m----> 1\u001B[0m sim_mask\u001B[38;5;241m.\u001B[39mdtype\n",
      "\u001B[1;31mNameError\u001B[0m: name 'sim_mask' is not defined"
     ]
    }
   ],
   "source": [
    "sim_mask.dtype"
   ],
   "metadata": {
    "collapsed": false,
    "ExecuteTime": {
     "start_time": "2024-03-17T08:15:17.814405Z",
     "end_time": "2024-03-17T08:15:17.845972Z"
    }
   }
  },
  {
   "cell_type": "code",
   "execution_count": 32,
   "outputs": [
    {
     "data": {
      "text/plain": "tensor([0., 2., 3.])"
     },
     "execution_count": 32,
     "metadata": {},
     "output_type": "execute_result"
    }
   ],
   "source": [
    "torch.tensor([0, 1, 1], dtype=torch.uint8) * torch.tensor([1, 2, 3], dtype=torch.float32)"
   ],
   "metadata": {
    "collapsed": false,
    "ExecuteTime": {
     "start_time": "2024-03-17T10:01:32.338990Z",
     "end_time": "2024-03-17T10:01:32.355081Z"
    }
   }
  }
 ],
 "metadata": {
  "kernelspec": {
   "display_name": "Python 3",
   "language": "python",
   "name": "python3"
  },
  "language_info": {
   "codemirror_mode": {
    "name": "ipython",
    "version": 2
   },
   "file_extension": ".py",
   "mimetype": "text/x-python",
   "name": "python",
   "nbconvert_exporter": "python",
   "pygments_lexer": "ipython2",
   "version": "2.7.6"
  }
 },
 "nbformat": 4,
 "nbformat_minor": 0
}
