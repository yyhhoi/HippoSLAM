{
 "cells": [
  {
   "cell_type": "code",
   "execution_count": 15,
   "metadata": {
    "collapsed": true,
    "ExecuteTime": {
     "start_time": "2024-03-16T18:27:35.153742Z",
     "end_time": "2024-03-16T18:27:35.161913Z"
    }
   },
   "outputs": [],
   "source": [
    "from hipposlam.trainVAE import EmbeddingImageDatasetAll\n",
    "from pycircstat.descriptive import cdiff\n",
    "import numpy as np"
   ]
  },
  {
   "cell_type": "code",
   "execution_count": 12,
   "outputs": [],
   "source": [
    "load_annotations_pth = 'data/VAE/annotations2.csv'\n",
    "load_embed_dir = 'data/VAE/embeds2'\n",
    "dataset = EmbeddingImageDatasetAll(load_annotations_pth, load_embed_dir, to_numpy=True)"
   ],
   "metadata": {
    "collapsed": false,
    "ExecuteTime": {
     "start_time": "2024-03-16T18:26:34.292917Z",
     "end_time": "2024-03-16T18:26:34.322833Z"
    }
   }
  },
  {
   "cell_type": "code",
   "execution_count": 13,
   "outputs": [],
   "source": [
    "embeds, labels = dataset.get_all()\n",
    "x = labels[:, 0]\n",
    "y = labels[:, 1]\n",
    "a = labels[:, 2]\n",
    "xmin, ymin = labels[:, [0, 1]].min(axis=0)\n",
    "xmax, ymax = labels[:, [0, 1]].max(axis=0)"
   ],
   "metadata": {
    "collapsed": false,
    "ExecuteTime": {
     "start_time": "2024-03-16T18:26:35.827996Z",
     "end_time": "2024-03-16T18:26:35.850113Z"
    }
   }
  },
  {
   "cell_type": "code",
   "execution_count": 20,
   "outputs": [],
   "source": [
    "xnorm = (x-xmin)/(xmax-xmin)\n",
    "ynorm = (y-ymin)/(ymax-ymin)\n",
    "adiff = cdiff(a.reshape(-1, 1), a.reshape(1, -1)) / np.pi\n",
    "posdist = np.sqrt((xnorm.reshape(-1, 1) - xnorm.reshape(1, -1)) ** 2 + (ynorm.reshape(-1, 1) - ynorm.reshape(1, -1)) ** 2) / np.sqrt(2)\n"
   ],
   "metadata": {
    "collapsed": false,
    "ExecuteTime": {
     "start_time": "2024-03-16T18:33:01.559669Z",
     "end_time": "2024-03-16T18:33:08.101614Z"
    }
   }
  },
  {
   "cell_type": "code",
   "execution_count": 23,
   "outputs": [],
   "source": [
    "dist_thresh = 0.1\n",
    "adiff_thresh = 0.1\n",
    "sim_mask = (posdist <dist_thresh) & (adiff < adiff_thresh)"
   ],
   "metadata": {
    "collapsed": false,
    "ExecuteTime": {
     "start_time": "2024-03-16T18:45:09.013224Z",
     "end_time": "2024-03-16T18:45:09.304279Z"
    }
   }
  },
  {
   "cell_type": "code",
   "execution_count": 27,
   "outputs": [
    {
     "data": {
      "text/plain": "(6805058,)"
     },
     "execution_count": 27,
     "metadata": {},
     "output_type": "execute_result"
    }
   ],
   "source": [
    "sim_rids, sim_cids = np.where(sim_mask)\n",
    "dissim_rids, dissim_cids = np.where(~sim_mask)\n"
   ],
   "metadata": {
    "collapsed": false,
    "ExecuteTime": {
     "start_time": "2024-03-16T18:52:28.080588Z",
     "end_time": "2024-03-16T18:52:28.454964Z"
    }
   }
  },
  {
   "cell_type": "code",
   "execution_count": 58,
   "outputs": [],
   "source": [
    "import torch\n",
    "from torch.utils.data import Dataset\n",
    "from os.path import join\n",
    "import pandas as pd\n",
    "\n",
    "class ContrastiveEmbeddingDataset:\n",
    "    def __init__(self, load_annotation_pth, load_embed_dir, datainds, dist_thresh=0.1, adiff_thresh=0.1):\n",
    "        self.load_annotation_pth = load_annotation_pth\n",
    "        self.load_embed_dir = load_embed_dir\n",
    "        self.dist_thresh= dist_thresh\n",
    "        self.adiff_thresh = adiff_thresh\n",
    "        self.embed_all = torch.load(join(self.load_embed_dir, 'all.pt'))[datainds[0]:datainds[1]]\n",
    "        self.img_labels = pd.read_csv(load_annotation_pth, header=0).to_numpy()[datainds[0]:datainds[1], [1, 2, 3]]\n",
    "        self.sim_rcids, self.dissim_rcids = self._compute_contrastive_labels()\n",
    "        self.sim_size, self.dissim_size = self.sim_rcids.shape[0], self.dissim_rcids.shape[0]\n",
    "\n",
    "    def iterate(self, batchsize):\n",
    "        assert (batchsize < self.sim_size) and (batchsize < self.dissim_size)\n",
    "        sim_randvec = np.random.permutation(self.sim_size)\n",
    "        dissim_randvec = np.random.permutation(self.sim_size)\n",
    "        slice_inds = np.append(np.arange(0, self.sim_size, batchsize), self.sim_size)\n",
    "\n",
    "        for i in range(len(slice_inds)-1):\n",
    "            start_ind, end_ind = slice_inds[i], slice_inds[i+1]\n",
    "\n",
    "            sim_randinds = sim_randvec[start_ind:end_ind]\n",
    "            sim_rids = self.sim_rcids[sim_randinds, 0]\n",
    "            sim_cids = self.sim_rcids[sim_randinds, 1]\n",
    "            simbatch1 = self.embed_all[sim_rids]\n",
    "            simbatch2 = self.embed_all[sim_cids]\n",
    "\n",
    "            dissim_randinds = dissim_randvec[start_ind:end_ind]\n",
    "            dissim_rids = self.dissim_rcids[dissim_randinds, 0]\n",
    "            dissim_cids = self.dissim_rcids[dissim_randinds, 1]\n",
    "            dissimbatch1 = self.embed_all[dissim_rids]\n",
    "            dissimbatch2 = self.embed_all[dissim_cids]\n",
    "\n",
    "            yield (simbatch1, simbatch2), (dissimbatch1, dissimbatch2)\n",
    "\n",
    "\n",
    "    def _compute_contrastive_labels(self):\n",
    "        x = self.img_labels[:, 0]\n",
    "        y = self.img_labels[:, 1]\n",
    "        a = self.img_labels[:, 2]\n",
    "        xmin, ymin = self.img_labels[:, [0, 1]].min(axis=0)\n",
    "        xmax, ymax = self.img_labels[:, [0, 1]].max(axis=0)\n",
    "        xnorm = (x-xmin)/(xmax-xmin)\n",
    "        ynorm = (y-ymin)/(ymax-ymin)\n",
    "        adiff = cdiff(a.reshape(-1, 1), a.reshape(1, -1)) / np.pi\n",
    "        posdist = np.sqrt((xnorm.reshape(-1, 1) - xnorm.reshape(1, -1)) ** 2 + (ynorm.reshape(-1, 1) - ynorm.reshape(1, -1)) ** 2) / np.sqrt(2)\n",
    "        sim_mask_tmp = (posdist < self.dist_thresh) & (adiff < self.adiff_thresh)\n",
    "        no_diag_mask = ~np.eye(sim_mask_tmp.shape[0]).astype(bool)\n",
    "        sim_mask = sim_mask_tmp & no_diag_mask\n",
    "        dissim_mask = ~sim_mask_tmp\n",
    "        sim_rcids = np.stack(np.where(sim_mask)).T\n",
    "        dissim_rcids = np.stack(np.where(dissim_mask)).T\n",
    "        return sim_rcids, dissim_rcids\n",
    "\n",
    "\n"
   ],
   "metadata": {
    "collapsed": false,
    "ExecuteTime": {
     "start_time": "2024-03-16T20:43:52.663476Z",
     "end_time": "2024-03-16T20:43:52.694262Z"
    }
   }
  },
  {
   "cell_type": "code",
   "execution_count": 59,
   "outputs": [],
   "source": [
    "load_annotations_pth = 'data/VAE/annotations2.csv'\n",
    "load_embed_dir = 'data/VAE/embeds2'\n",
    "dataset = ContrastiveEmbeddingDataset(load_annotations_pth, load_embed_dir)"
   ],
   "metadata": {
    "collapsed": false,
    "ExecuteTime": {
     "start_time": "2024-03-16T20:43:53.779290Z",
     "end_time": "2024-03-16T20:44:02.429825Z"
    }
   }
  },
  {
   "cell_type": "code",
   "execution_count": 67,
   "outputs": [],
   "source": [
    "for (sim_embed1, sim_embed2), dissim in dataset.iterate(32):\n",
    "    break"
   ],
   "metadata": {
    "collapsed": false,
    "ExecuteTime": {
     "start_time": "2024-03-16T21:57:00.217467Z",
     "end_time": "2024-03-16T21:57:00.771387Z"
    }
   }
  },
  {
   "cell_type": "code",
   "execution_count": 73,
   "outputs": [
    {
     "name": "stdout",
     "output_type": "stream",
     "text": [
      "tensor([ 9.8988, 13.9596,  8.3449, 14.6587, 10.4811, 12.0691, 11.8705,  8.5749,\n",
      "         8.3619, 11.5178, 12.8127,  8.2108, 13.8534,  8.8696,  6.4656,  8.3833,\n",
      "         8.1345, 10.0703,  9.4563, 12.2103,  7.9625, 11.2243,  9.4736,  9.6146,\n",
      "        10.9514,  8.0056,  6.9203, 14.2253, 13.5121,  7.9144,  6.9854,  8.2553])\n"
     ]
    },
    {
     "data": {
      "text/plain": "tensor([0.1012, 0.0000, 1.6551, 0.0000, 0.0000, 0.0000, 0.0000, 1.4251, 1.6381,\n        0.0000, 0.0000, 1.7892, 0.0000, 1.1304, 3.5344, 1.6167, 1.8655, 0.0000,\n        0.5437, 0.0000, 2.0375, 0.0000, 0.5264, 0.3854, 0.0000, 1.9944, 3.0797,\n        0.0000, 0.0000, 2.0856, 3.0146, 1.7447])"
     },
     "execution_count": 73,
     "metadata": {},
     "output_type": "execute_result"
    }
   ],
   "source": [
    "D = torch.sqrt(torch.sum(torch.square(sim_embed1 - sim_embed2), dim=1))\n",
    "torch.nn.functional.relu(10 - D)"
   ],
   "metadata": {
    "collapsed": false,
    "ExecuteTime": {
     "start_time": "2024-03-16T22:00:01.236699Z",
     "end_time": "2024-03-16T22:00:01.247067Z"
    }
   }
  },
  {
   "cell_type": "code",
   "execution_count": null,
   "outputs": [],
   "source": [],
   "metadata": {
    "collapsed": false
   }
  }
 ],
 "metadata": {
  "kernelspec": {
   "display_name": "Python 3",
   "language": "python",
   "name": "python3"
  },
  "language_info": {
   "codemirror_mode": {
    "name": "ipython",
    "version": 2
   },
   "file_extension": ".py",
   "mimetype": "text/x-python",
   "name": "python",
   "nbconvert_exporter": "python",
   "pygments_lexer": "ipython2",
   "version": "2.7.6"
  }
 },
 "nbformat": 4,
 "nbformat_minor": 0
}
