{
 "cells": [
  {
   "cell_type": "code",
   "outputs": [],
   "source": [
    "import os\n",
    "import imageio.v2 as imageio\n",
    "from glob import glob\n",
    "import numpy as np\n",
    "import torch\n",
    "import pandas as pd\n",
    "from matplotlib import pyplot as plt\n",
    "from hipposlam.Replay import ReplayMemoryAWAC\n",
    "from hipposlam.utils import read_pickle\n",
    "from os.path import join\n",
    "import skvideo\n"
   ],
   "metadata": {
    "collapsed": false,
    "ExecuteTime": {
     "end_time": "2024-03-26T08:33:50.938221Z",
     "start_time": "2024-03-26T08:33:49.246254Z"
    }
   },
   "id": "f011c75f1e680f80",
   "execution_count": 3
  },
  {
   "cell_type": "markdown",
   "source": [
    "# Animation Writer"
   ],
   "metadata": {
    "collapsed": false
   },
   "id": "4e4afbf8677a9335"
  },
  {
   "cell_type": "code",
   "outputs": [],
   "source": [
    "\n",
    "\n",
    "\n",
    "class ModelTrajAnimator:\n",
    "    def __init__(self, model_name, load_csv_pth):\n",
    "        self.model_name = model_name\n",
    "        self.df = pd.read_csv(load_csv_pth)\n",
    "        self.x_norm = 6\n",
    "        self.y_norm = 4\n",
    "        self.xr = [-6.2, 6.8]\n",
    "        self.yr = [-3.1, 4.9]\n",
    "        self.goalx, self.goaly = (-4, -2)\n",
    "        \n",
    "    \n",
    "    def plot_all_episode_trajs(self, save_episodes_dir, only_done=False):\n",
    "        # View all episode trajectories\n",
    "        \n",
    "        unique_epis = self.df['i'].unique()\n",
    "        for epi in unique_epis:\n",
    "            \n",
    "            subdf = self.df[self.df['i'] == epi]\n",
    "            done = subdf['done'].to_numpy()[-1]\n",
    "            if only_done and (done != 1) :\n",
    "                continue\n",
    "                \n",
    "            # print(f'{epi}/{len(unique_epis)}, saving at {save_episodes_dir}')\n",
    "            trajdata = subdf[['x', 'y', 'cosa', 'sina']].to_numpy()\n",
    "\n",
    "            x, y, cosa, sina = trajdata[:, 0], trajdata[:, 1], trajdata[:, 2], trajdata[:, 3]\n",
    "            x = x * self.x_norm\n",
    "            y = y * self.y_norm\n",
    "            \n",
    "            dist = np.sum(np.sqrt(np.diff(x) ** 2 + np.diff(y) ** 2))\n",
    "            \n",
    "            fig, ax = plt.subplots()\n",
    "            ax.plot(x, y)\n",
    "            ax.quiver(x[-1], y[-1], cosa[-1], sina[-1])\n",
    "            # ax.scatter(self.goalx, self.goaly, marker='^', color='r')\n",
    "            ax.plot([-4, self.xr[0]], [-0.5, -0.5], color='r')\n",
    "\n",
    "            \n",
    "            ax.set_xlim(*self.xr)\n",
    "            ax.set_ylim(*self.yr)\n",
    "            ax.set_title(f'episode {epi}, time={trajdata.shape[0]}, dist={dist:0.4f}')\n",
    "            # ax.axis('off')\n",
    "            fig.tight_layout()\n",
    "            fig.savefig(join(save_episodes_dir, f'{epi}.png'), dpi=300)\n",
    "            plt.close(fig)\n",
    "    \n",
    "    def plot_imgs_for_gif(self, save_gif_dir, epi): \n",
    "        # epi = 46 for random agent\n",
    "\n",
    "        print('Saving images for gif at ', save_gif_dir)\n",
    "        \n",
    "        trajdata = self.df[self.df['i'] == epi][['x', 'y', 'cosa', 'sina']].to_numpy()\n",
    "        x, y, cosa, sina = trajdata[:, 0], trajdata[:, 1], trajdata[:, 2], trajdata[:, 3]\n",
    "        x = x * self.x_norm\n",
    "        y = y * self.y_norm\n",
    "        \n",
    "        for t in range(trajdata.shape[0]):\n",
    "            \n",
    "            x2, y2, cosa2, sina2 = x[:t], y[:t], cosa[:t], sina[:t]\n",
    "            \n",
    "            fig, ax = plt.subplots()\n",
    "            ax.plot(x2, y2)\n",
    "            if t > 0 :\n",
    "                ax.quiver(x2[-1], y2[-1], cosa2[-1], sina2[-1], scale=20, zorder=3.1)\n",
    "            else:\n",
    "                ax.quiver(x2, y2, cosa2, sina2, scale=20, zorder=3.1)\n",
    "            \n",
    "            # ax.scatter(self.goalx, self.goaly, marker='^', color='r')\n",
    "            ax.plot([-4, self.xr[0]], [-0.5, -0.5], color='r')\n",
    "            ax.set_xlim(*self.xr)\n",
    "            ax.set_ylim(*self.yr)\n",
    "            # ax.axis('off')\n",
    "            fig.tight_layout()\n",
    "            fig.savefig(join(save_gif_dir, f'{t}.png'), dpi=300)\n",
    "            plt.close(fig)\n",
    "            \n",
    "    def generate_gif(self, load_pngs_dir, model_name):\n",
    "        pths = glob(join(load_pngs_dir, '*.png'))\n",
    "        Npths = len(pths)\n",
    "        with imageio.get_writer(join(load_pngs_dir, f'{model_name}.gif'), mode='I', loop=1) as writer:\n",
    "            for i in range(Npths):\n",
    "                imgpth = join(load_pngs_dir, f'{i}.png')\n",
    "                image = imageio.imread(imgpth)\n",
    "                writer.append_data(image)\n",
    "    def generate_mp4(self, load_pngs_dir, model_name):\n",
    "        pths = glob(join(load_pngs_dir, '*.png'))\n",
    "        Npths = len(pths)\n",
    "        writer = skvideo.io.FFmpegWriter(join(load_pngs_dir, f'{model_name}.wmv'))\n",
    "        for i in range(Npths):\n",
    "            imgpth = join(load_pngs_dir, f'{i}.png')\n",
    "            image = imageio.imread(imgpth)\n",
    "            writer.writeFrame(image)\n",
    "        writer.close()\n",
    "        \n",
    "    "
   ],
   "metadata": {
    "collapsed": false,
    "ExecuteTime": {
     "end_time": "2024-03-26T08:33:50.949726Z",
     "start_time": "2024-03-26T08:33:50.939253Z"
    }
   },
   "id": "d9bc9142939bf44e",
   "execution_count": 4
  },
  {
   "cell_type": "markdown",
   "source": [
    "# Plot Random Agent"
   ],
   "metadata": {
    "collapsed": false
   },
   "id": "662ee93adde64f73"
  },
  {
   "cell_type": "code",
   "outputs": [],
   "source": [
    "model_name = 'RandomAgent'\n",
    "load_csv_pth = 'data/%s/%s_TrajectoryRecords.csv' %(model_name, model_name)\n",
    "save_episodes_dir = 'data/%s/episode_overview' % (model_name)\n",
    "os.makedirs(save_episodes_dir, exist_ok=True)\n",
    "\n",
    "\n",
    "MTA = ModelTrajAnimator(model_name=model_name, load_csv_pth=load_csv_pth)\n",
    "# MTA.plot_all_episode_trajs(save_episodes_dir)\n"
   ],
   "metadata": {
    "collapsed": false,
    "ExecuteTime": {
     "end_time": "2024-03-26T08:33:50.964731Z",
     "start_time": "2024-03-26T08:33:50.949726Z"
    }
   },
   "id": "430b5166e05447d5",
   "execution_count": 5
  },
  {
   "cell_type": "code",
   "outputs": [],
   "source": [
    "epi=46\n",
    "save_gif_dir = 'data/%s/%d_gif'%(model_name, epi)\n",
    "os.makedirs(save_gif_dir, exist_ok=True)\n",
    "# MTA.plot_imgs_for_gif(save_gif_dir=save_gif_dir, epi=epi)\n",
    "MTA.generate_mp4(load_pngs_dir=save_gif_dir, model_name=model_name)\n",
    "# "
   ],
   "metadata": {
    "collapsed": false,
    "ExecuteTime": {
     "end_time": "2024-03-26T08:33:56.722931Z",
     "start_time": "2024-03-26T08:33:50.965762Z"
    }
   },
   "id": "687f6557049e8900",
   "execution_count": 6
  },
  {
   "cell_type": "code",
   "outputs": [],
   "source": [
    "pths = glob(join(save_gif_dir, '*.png'))\n",
    "Npths = len(pths)\n",
    "writer = skvideo.io.FFmpegWriter(join(save_gif_dir, f'{model_name}.wmv'))\n",
    "for i in range(Npths):\n",
    "    imgpth = join(save_gif_dir, f'{i}.png')\n",
    "    image = imageio.imread(imgpth)\n",
    "    writer.writeFrame(image)\n",
    "writer.close()"
   ],
   "metadata": {
    "collapsed": false,
    "ExecuteTime": {
     "end_time": "2024-03-26T08:34:02.253453Z",
     "start_time": "2024-03-26T08:33:56.723950Z"
    }
   },
   "id": "6abd79854e95b7e1",
   "execution_count": 7
  },
  {
   "cell_type": "markdown",
   "source": [
    "# Plot Naive avoidance"
   ],
   "metadata": {
    "collapsed": false
   },
   "id": "de4e5051e53cb1c7"
  },
  {
   "cell_type": "code",
   "outputs": [],
   "source": [
    "model_name = 'NaiveControllerDemo'\n",
    "load_csv_pth = 'data/%s/%s_TrajectoryRecords.csv' %(model_name, model_name)\n",
    "save_episodes_dir = 'data/%s/episode_overview' % (model_name)\n",
    "os.makedirs(save_episodes_dir, exist_ok=True)\n",
    "\n",
    "MTA = ModelTrajAnimator(model_name=model_name, load_csv_pth=load_csv_pth)\n",
    "# MTA.plot_all_episode_trajs(save_episodes_dir, only_done=True)\n",
    "\n"
   ],
   "metadata": {
    "collapsed": false,
    "ExecuteTime": {
     "end_time": "2024-03-26T08:34:15.129625Z",
     "start_time": "2024-03-26T08:34:15.070654Z"
    }
   },
   "id": "66c3c6ce31eed74d",
   "execution_count": 8
  },
  {
   "cell_type": "code",
   "outputs": [],
   "source": [
    "epi = 1211  # 1211, 1065\n",
    "save_gif_dir = 'data/%s/%d_gif'%(model_name, epi)\n",
    "os.makedirs(save_gif_dir, exist_ok=True)\n",
    "# MTA.plot_imgs_for_gif(save_gif_dir=save_gif_dir, epi=epi)\n",
    "MTA.generate_mp4(load_pngs_dir=save_gif_dir, model_name=model_name)\n"
   ],
   "metadata": {
    "collapsed": false,
    "ExecuteTime": {
     "end_time": "2024-03-26T08:34:22.044484Z",
     "start_time": "2024-03-26T08:34:15.257855Z"
    }
   },
   "id": "8133772caf915909",
   "execution_count": 9
  },
  {
   "cell_type": "markdown",
   "source": [
    "# Plot OfflineTrained"
   ],
   "metadata": {
    "collapsed": false
   },
   "id": "8b9e9b5a6174fc78"
  },
  {
   "cell_type": "code",
   "outputs": [],
   "source": [
    "model_name = 'OfflineTrainedDemo'\n",
    "load_csv_pth = 'data/%s/%s_TrajectoryRecords.csv' %(model_name, model_name)\n",
    "save_episodes_dir = 'data/%s/episode_overview' % (model_name)\n",
    "os.makedirs(save_episodes_dir, exist_ok=True)\n",
    "\n",
    "MTA = ModelTrajAnimator(model_name=model_name, load_csv_pth=load_csv_pth)\n",
    "# MTA.plot_all_episode_trajs(save_episodes_dir, only_done=True)\n",
    "\n"
   ],
   "metadata": {
    "collapsed": false,
    "ExecuteTime": {
     "end_time": "2024-03-26T08:34:22.066343Z",
     "start_time": "2024-03-26T08:34:22.045507Z"
    }
   },
   "id": "d86ef240c81e6f25",
   "execution_count": 10
  },
  {
   "cell_type": "code",
   "outputs": [],
   "source": [
    "epi = 218  # \n",
    "save_gif_dir = 'data/%s/%d_gif'%(model_name, epi)\n",
    "os.makedirs(save_gif_dir, exist_ok=True)\n",
    "# MTA.plot_imgs_for_gif(save_gif_dir=save_gif_dir, epi=epi)\n",
    "MTA.generate_mp4(load_pngs_dir=save_gif_dir, model_name=model_name)\n"
   ],
   "metadata": {
    "collapsed": false,
    "ExecuteTime": {
     "end_time": "2024-03-26T08:34:28.565739Z",
     "start_time": "2024-03-26T08:34:22.067373Z"
    }
   },
   "id": "31b7b0cd8dd5c7a7",
   "execution_count": 11
  },
  {
   "cell_type": "markdown",
   "source": [
    "# Plot finetuned 9"
   ],
   "metadata": {
    "collapsed": false
   },
   "id": "5fcfcfb3663559b2"
  },
  {
   "cell_type": "code",
   "outputs": [],
   "source": [
    "model_name = 'Finetuned9Demo'\n",
    "load_csv_pth = 'data/%s/%s_TrajectoryRecords.csv' %(model_name, model_name)\n",
    "save_episodes_dir = 'data/%s/episode_overview' % (model_name)\n",
    "os.makedirs(save_episodes_dir, exist_ok=True)\n",
    "\n",
    "MTA = ModelTrajAnimator(model_name=model_name, load_csv_pth=load_csv_pth)\n",
    "# MTA.plot_all_episode_trajs(save_episodes_dir, only_done=True)\n",
    "\n"
   ],
   "metadata": {
    "collapsed": false,
    "ExecuteTime": {
     "end_time": "2024-03-26T08:34:28.585102Z",
     "start_time": "2024-03-26T08:34:28.565739Z"
    }
   },
   "id": "cc488dfc21897fd8",
   "execution_count": 12
  },
  {
   "cell_type": "code",
   "outputs": [],
   "source": [
    "epi = 224  # 224, 236, 298\n",
    "save_gif_dir = 'data/%s/%d_gif'%(model_name, epi)\n",
    "os.makedirs(save_gif_dir, exist_ok=True)\n",
    "# MTA.plot_imgs_for_gif(save_gif_dir=save_gif_dir, epi=epi)\n",
    "# MTA.generate_mp4(load_pngs_dir=save_gif_dir, model_name=model_name)\n",
    "MTA.generate_mp4(load_pngs_dir=save_gif_dir, model_name=model_name)\n"
   ],
   "metadata": {
    "collapsed": false,
    "ExecuteTime": {
     "end_time": "2024-03-26T08:34:30.222255Z",
     "start_time": "2024-03-26T08:34:28.586131Z"
    }
   },
   "id": "32cc672a9e12b0c5",
   "execution_count": 13
  },
  {
   "cell_type": "markdown",
   "source": [
    "# Plot statistics"
   ],
   "metadata": {
    "collapsed": false
   },
   "id": "6bbf88c9d4871ce1"
  },
  {
   "cell_type": "code",
   "outputs": [],
   "source": [
    "model_names = [\n",
    "    # 'RandomAgent',\n",
    "    'NaiveControllerDemo',\n",
    "    'OfflineTrainedDemo',\n",
    "    'Finetuned9Demo',\n",
    "]\n",
    "data_dict = {}\n",
    "for model_name in model_names:\n",
    "    load_csv_pth = 'data/%s/%s_TrajectoryRecords.csv' %(model_name, model_name)\n",
    "    MTA = ModelTrajAnimator(model_name=model_name, load_csv_pth=load_csv_pth)\n",
    "    \n",
    "    data_dict[model_name] = {}\n",
    "    \n",
    "    dones = []\n",
    "    trajts = []\n",
    "    unique_epis = MTA.df['i'].unique()\n",
    "    for epi in unique_epis:\n",
    "        subdf = MTA.df[MTA.df['i'] == epi]\n",
    "        done = subdf['done'].to_numpy()[-1]\n",
    "        dones.append(done)\n",
    "        if done == 1:\n",
    "            trajts.append(subdf.shape[0])\n",
    "    data_dict[model_name]['dones'] = dones\n",
    "    data_dict[model_name]['trajts'] = trajts"
   ],
   "metadata": {
    "collapsed": false,
    "ExecuteTime": {
     "end_time": "2024-03-26T08:34:30.597655Z",
     "start_time": "2024-03-26T08:34:30.223302Z"
    }
   },
   "id": "e6d6b19cf14e1349",
   "execution_count": 14
  },
  {
   "cell_type": "code",
   "outputs": [
    {
     "name": "stdout",
     "output_type": "stream",
     "text": [
      "[51, 17, 244]\n",
      "[1293, 300, 300]\n"
     ]
    },
    {
     "data": {
      "text/plain": "<Figure size 400x600 with 2 Axes>",
      "image/png": "[encoded data removed]"
     },
     "metadata": {},
     "output_type": "display_data"
    }
   ],
   "source": [
    "\n",
    "fig, ax = plt.subplots(2, 1, figsize=(4, 6), sharex=True)\n",
    "\n",
    "x = np.arange(len(model_names)+1)\n",
    "winrates = [0] + [np.mean(data_dict[model_name]['dones']) for model_name in model_names]\n",
    "print([sum(data_dict[model_name]['dones']) for model_name in model_names])\n",
    "print([len(data_dict[model_name]['dones']) for model_name in model_names])\n",
    "ax[0].bar(x+1, winrates, width=0.5, align='center')\n",
    "ax[0].set_xticks(x+1)\n",
    "# ax[0].set_xticklabels(['Random', 'Avoidance', 'Imitation', 'Finetuned'], rotation=45)\n",
    "times =  [[]] + [data_dict[model_name]['trajts'] for model_name in model_names]\n",
    "ax[0].set_ylabel('Win fraction')\n",
    "\n",
    "\n",
    "_ = ax[1].boxplot(times)\n",
    "ax[1].set_xticks(x+1)\n",
    "ax[1].set_xticklabels(['Random', 'Avoidance', 'Imitation', 'Finetuned'], rotation=45)\n",
    "ax[1].set_ylabel('Time steps to goal')\n",
    "fig.tight_layout()\n",
    "# winrates = [np.mean(data_dict[model_name]['dones']) for model_name in model_names]\n",
    "fig.savefig('data/AWAC_Performance.png', dpi=300)\n",
    "    "
   ],
   "metadata": {
    "collapsed": false,
    "ExecuteTime": {
     "end_time": "2024-03-26T08:34:30.872186Z",
     "start_time": "2024-03-26T08:34:30.598674Z"
    }
   },
   "id": "43365c17712c90e3",
   "execution_count": 15
  },
  {
   "cell_type": "code",
   "outputs": [
    {
     "data": {
      "text/plain": "11.832946635730858"
     },
     "execution_count": 16,
     "metadata": {},
     "output_type": "execute_result"
    }
   ],
   "source": [
    "51/1293 * 300"
   ],
   "metadata": {
    "collapsed": false,
    "ExecuteTime": {
     "end_time": "2024-03-26T08:34:30.876617Z",
     "start_time": "2024-03-26T08:34:30.873220Z"
    }
   },
   "id": "a23c89d21f7fd2d8",
   "execution_count": 16
  },
  {
   "cell_type": "code",
   "outputs": [
    {
     "data": {
      "text/plain": "1"
     },
     "execution_count": 80,
     "metadata": {},
     "output_type": "execute_result"
    }
   ],
   "source": [
    "model_name = model_names[0]\n",
    "\n",
    "dones = data_dict[model_name]['dones']\n",
    "\n",
    "np.sum(dones)"
   ],
   "metadata": {
    "collapsed": false,
    "ExecuteTime": {
     "end_time": "2024-03-23T15:01:23.136077Z",
     "start_time": "2024-03-23T15:01:23.132361Z"
    }
   },
   "id": "5d7e085320d92a1a",
   "execution_count": 80
  },
  {
   "cell_type": "code",
   "outputs": [
    {
     "data": {
      "text/plain": "100"
     },
     "execution_count": 81,
     "metadata": {},
     "output_type": "execute_result"
    }
   ],
   "source": [
    "len(dones)"
   ],
   "metadata": {
    "collapsed": false,
    "ExecuteTime": {
     "end_time": "2024-03-23T15:01:44.855426Z",
     "start_time": "2024-03-23T15:01:44.851186Z"
    }
   },
   "id": "35833e77989714a2",
   "execution_count": 81
  }
 ],
 "metadata": {
  "kernelspec": {
   "display_name": "Python 3",
   "language": "python",
   "name": "python3"
  },
  "language_info": {
   "codemirror_mode": {
    "name": "ipython",
    "version": 2
   },
   "file_extension": ".py",
   "mimetype": "text/x-python",
   "name": "python",
   "nbconvert_exporter": "python",
   "pygments_lexer": "ipython2",
   "version": "2.7.6"
  }
 },
 "nbformat": 4,
 "nbformat_minor": 5
}
