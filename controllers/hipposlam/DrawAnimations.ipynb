{
 "cells": [
  {
   "cell_type": "code",
   "execution_count": 7,
   "outputs": [],
   "source": [
    "import numpy as np\n",
    "import pandas as pd\n",
    "from lib.utils import read_pickle\n",
    "from os.path import join\n",
    "import os\n",
    "import matplotlib.pyplot as plt\n",
    "from lib.Sequences import createX\n",
    "import collections\n",
    "\n",
    "# In order to use Webots API, Replace the path to your webots library\n",
    "# You could also set it in your OS system.\n",
    "import sys\n",
    "sys.path.insert(0, r'C:\\Program Files\\Webots\\lib\\controller\\python')\n"
   ],
   "metadata": {
    "collapsed": false,
    "ExecuteTime": {
     "end_time": "2024-04-30T08:24:50.206844Z",
     "start_time": "2024-04-30T08:24:50.198215Z"
    }
   }
  },
  {
   "cell_type": "markdown",
   "source": [
    "# Draw X matrix animation in Leibold 2020's paper"
   ],
   "metadata": {
    "collapsed": false
   }
  },
  {
   "cell_type": "code",
   "execution_count": 2,
   "outputs": [],
   "source": [
    "from lib.Sequences import Sequences\n",
    "import numpy as np\n",
    "import matplotlib.pyplot as plt\n",
    "import os\n",
    "R = 5\n",
    "L = 20\n",
    "K = R + L - 1\n",
    "seq = Sequences(R, L, False)\n",
    "\n",
    "fids = [[] for _ in range(40)]\n",
    "fids[0].append('1')\n",
    "fids[8].append('2')\n",
    "fids[11].append('3')\n",
    "fids[14].append('2')\n",
    "fids[19].append('4')\n",
    "os.makedirs('Xgif', exist_ok=True)\n",
    "for i, ids in enumerate(fids):\n",
    "\n",
    "    seq.step(ids)\n",
    "    out = seq.X.copy()\n",
    "    X = np.zeros((4, K))\n",
    "    X[:len(out), :] = out\n",
    "    fig, ax = plt.subplots(figsize=(8, 1.8))\n",
    "    ax.imshow(X)\n",
    "    # ax.axis('off')\n",
    "    ax.set_xticks(np.arange(K+1)-0.5, minor=True)\n",
    "    ax.set_yticks(np.arange(4+1)-0.5, minor=True)\n",
    "    plt.grid(which='minor')\n",
    "    ax.set_title(f'X(t={i+1})')\n",
    "    fig.tight_layout()\n",
    "    fig.savefig('Xgif/%d.png'%(i), dpi=100)\n",
    "    plt.close()\n",
    "\n"
   ],
   "metadata": {
    "collapsed": false,
    "ExecuteTime": {
     "end_time": "2024-04-30T08:18:01.930346Z",
     "start_time": "2024-04-30T08:17:47.901942Z"
    }
   }
  },
  {
   "cell_type": "markdown",
   "source": [
    "# Drawing X for my simulation\n",
    "The script below may fail, since the pickled file is not the same. The script is kept here to show how the animation in my slides (the evolution of Matrix $X$ when feature nodes were observed in camera) is done."
   ],
   "metadata": {
    "collapsed": false
   }
  },
  {
   "cell_type": "code",
   "execution_count": 3,
   "outputs": [
    {
     "ename": "ModuleNotFoundError",
     "evalue": "No module named 'hipposlam.Sequences'; 'hipposlam' is not a package",
     "output_type": "error",
     "traceback": [
      "\u001B[1;31m---------------------------------------------------------------------------\u001B[0m",
      "\u001B[1;31mModuleNotFoundError\u001B[0m                       Traceback (most recent call last)",
      "Cell \u001B[1;32mIn[3], line 27\u001B[0m\n\u001B[0;32m     25\u001B[0m \u001B[38;5;66;03m# Load hipposlam\u001B[39;00m\n\u001B[0;32m     26\u001B[0m load_hipposlam_pth \u001B[38;5;241m=\u001B[39m join(project_dir, chpt_name\u001B[38;5;241m.\u001B[39mreplace(\u001B[38;5;124m'\u001B[39m\u001B[38;5;124m$\u001B[39m\u001B[38;5;124m'\u001B[39m, \u001B[38;5;124m'\u001B[39m\u001B[38;5;132;01m%d\u001B[39;00m\u001B[38;5;124m'\u001B[39m\u001B[38;5;241m%\u001B[39mmax_chpt_num) \u001B[38;5;241m+\u001B[39m \u001B[38;5;124m'\u001B[39m\u001B[38;5;124m_hipposlam.pickle\u001B[39m\u001B[38;5;124m'\u001B[39m)\n\u001B[1;32m---> 27\u001B[0m hipposlam \u001B[38;5;241m=\u001B[39m \u001B[43mread_pickle\u001B[49m\u001B[43m(\u001B[49m\u001B[43mload_hipposlam_pth\u001B[49m\u001B[43m)\u001B[49m\n\u001B[0;32m     28\u001B[0m hipposeq \u001B[38;5;241m=\u001B[39m hipposlam[\u001B[38;5;124m'\u001B[39m\u001B[38;5;124mhipposeq\u001B[39m\u001B[38;5;124m'\u001B[39m]\n\u001B[0;32m     29\u001B[0m hippomap \u001B[38;5;241m=\u001B[39m hipposlam[\u001B[38;5;124m'\u001B[39m\u001B[38;5;124mhippomap\u001B[39m\u001B[38;5;124m'\u001B[39m]\n",
      "File \u001B[1;32m~\\projects\\HippoSLAM\\controllers\\hipposlam\\lib\\utils.py:17\u001B[0m, in \u001B[0;36mread_pickle\u001B[1;34m(read_path)\u001B[0m\n\u001B[0;32m     15\u001B[0m \u001B[38;5;28;01mdef\u001B[39;00m \u001B[38;5;21mread_pickle\u001B[39m(read_path):\n\u001B[0;32m     16\u001B[0m     \u001B[38;5;28;01mwith\u001B[39;00m \u001B[38;5;28mopen\u001B[39m(read_path, \u001B[38;5;124m'\u001B[39m\u001B[38;5;124mrb\u001B[39m\u001B[38;5;124m'\u001B[39m) \u001B[38;5;28;01mas\u001B[39;00m f:\n\u001B[1;32m---> 17\u001B[0m         data \u001B[38;5;241m=\u001B[39m \u001B[43mpickle\u001B[49m\u001B[38;5;241;43m.\u001B[39;49m\u001B[43mload\u001B[49m\u001B[43m(\u001B[49m\u001B[43mf\u001B[49m\u001B[43m)\u001B[49m\n\u001B[0;32m     18\u001B[0m     \u001B[38;5;28;01mreturn\u001B[39;00m data\n",
      "\u001B[1;31mModuleNotFoundError\u001B[0m: No module named 'hipposlam.Sequences'; 'hipposlam' is not a package"
     ]
    }
   ],
   "source": [
    "# Load data =============================================\n",
    "debug_plot_tag = False\n",
    "project_name = 'RegressedToTrueState'\n",
    "project_dir = join('data', project_name)\n",
    "plot_dir = join('plots', project_name)\n",
    "os.makedirs(plot_dir, exist_ok=True)\n",
    "chpt_name = 'PPO$'\n",
    "max_chpt_num = 1\n",
    "\n",
    "# Append traj data and fsigma\n",
    "trajkeys = 't', 'x', 'y', 'a', 'sid', 'r', 'terminated', 'truncated'\n",
    "alltrajdict = {key:[] for key in trajkeys}\n",
    "allfsigmalist = []\n",
    "for i in range(1, max_chpt_num+1):\n",
    "    traj_data_pth = join(project_dir, chpt_name.replace('$', '%d'%i) + '_trajdata.pickle')\n",
    "    trajdict_list = read_pickle(traj_data_pth)  # a list of dictionaries, each for one episode\n",
    "    for trajdict in trajdict_list:\n",
    "        # Traj data\n",
    "        for key in trajkeys:\n",
    "            alltrajdict[key].extend(trajdict[key])\n",
    "        # Fsigma\n",
    "        allfsigmalist.extend(trajdict['fsigma'])\n",
    "alltrajdf = pd.DataFrame(alltrajdict)\n",
    "\n",
    "# Load hipposlam\n",
    "load_hipposlam_pth = join(project_dir, chpt_name.replace('$', '%d'%max_chpt_num) + '_hipposlam.pickle')\n",
    "hipposlam = read_pickle(load_hipposlam_pth)\n",
    "hipposeq = hipposlam['hipposeq']\n",
    "hippomap = hipposlam['hippomap']\n",
    "hippoteach = hipposlam['hippoteach']\n",
    "fpos = hipposlam['fpos']\n",
    "R = hipposeq.R\n",
    "L = hipposeq.L\n",
    "F = hipposeq.num_f\n",
    "K = hipposeq.X_Ncol\n",
    "stored_f = hipposeq.stored_f\n",
    "id2fkey_dict = {val:key for key, val in stored_f.items()}\n",
    "\n",
    "# Assert data validity\n",
    "assert R == hippomap.R\n",
    "assert F == hippomap.current_F\n",
    "assert K == hippomap.K\n",
    "assert alltrajdf.shape[0] == len(allfsigmalist)"
   ],
   "metadata": {
    "collapsed": false,
    "ExecuteTime": {
     "end_time": "2024-04-30T08:18:29.723381Z",
     "start_time": "2024-04-30T08:18:18.672726Z"
    }
   }
  },
  {
   "cell_type": "code",
   "execution_count": 76,
   "outputs": [],
   "source": [
    "inds_c = [val for key, val in stored_f.items() if key[-1]=='c']\n",
    "inds_f = [val for key, val in stored_f.items() if key[-1]=='f']\n",
    "inds_t = [val for key, val in stored_f.items() if key[-1]=='t']\n",
    "\n",
    "inds = inds_f + inds_c + inds_t\n",
    "sepf = len(inds_f)\n",
    "sepc = len(inds_c) + sepf"
   ],
   "metadata": {
    "collapsed": false,
    "ExecuteTime": {
     "start_time": "2024-02-20T23:39:57.536850Z",
     "end_time": "2024-02-20T23:39:57.547385Z"
    }
   }
  },
  {
   "cell_type": "code",
   "execution_count": 95,
   "outputs": [],
   "source": [
    "os.makedirs('gif/Xgif_sim', exist_ok=True)\n",
    "os.makedirs('gif/traj', exist_ok=True)\n",
    "Xgif_dir = join('gif/Xgif_sim')\n",
    "traj_dir = join('gif/traj')\n",
    "\n",
    "\n",
    "# Obtain x, y, a data for each sigma ======================================\n",
    "xdict = collections.defaultdict(list)\n",
    "ydict = collections.defaultdict(list)\n",
    "adict = collections.defaultdict(list)\n",
    "trange = np.arange(11, 100)  # 11\n",
    "X = np.zeros((trange.shape[0], F, K))\n",
    "\n",
    "xmin, xmax = alltrajdf['x'].min(), alltrajdf['x'].max()\n",
    "ymin, ymax = alltrajdf['y'].min(), alltrajdf['y'].max()\n",
    "for i, t in enumerate(trange):\n",
    "    x = alltrajdf['x'][11:t+1]\n",
    "    y = alltrajdf['y'][11:t+1]\n",
    "\n",
    "    fig = plt.figure(figsize=(7, 8), facecolor='w')\n",
    "    ax1 = fig.add_axes([0.05, 0.4, 0.4, 0.35])\n",
    "    ax2 = fig.add_axes([0.50, 0.05, 0.6, 0.9])\n",
    "    ax = [ax1, ax2]\n",
    "    ax[0].plot(x, y, color='r')\n",
    "\n",
    "    for _, fposeach in fpos.items():\n",
    "        ax[0].scatter(fposeach[0], fposeach[1], marker='o', color='g')\n",
    "    ax[0].set_xlim(xmin, xmax)\n",
    "    ax[0].set_ylim(ymin, ymax)\n",
    "\n",
    "\n",
    "    fsigma = allfsigmalist[t]\n",
    "    Xslice = createX(R, F, K, stored_f, fsigma)\n",
    "    ax[1].imshow(Xslice[inds])\n",
    "    ax[1].axhline(sepf-0.5, color='r')\n",
    "    ax[1].axhline(sepc-0.5, color='r')\n",
    "    ax[1].set_xticks(np.arange(K+1)-0.5, minor=True)\n",
    "    ax[1].set_yticks(np.arange(F+1)-0.5, minor=True)\n",
    "    ax[1].grid(which='minor', linewidth=1)\n",
    "    ax[1].set_title(f'X(t={t})')\n",
    "    # fig.tight_layout()\n",
    "    fig.savefig(f'{traj_dir}/{i}.png', dpi=100)\n",
    "    # break\n",
    "    plt.close()\n"
   ],
   "metadata": {
    "collapsed": false,
    "ExecuteTime": {
     "start_time": "2024-02-20T23:59:14.321444Z",
     "end_time": "2024-02-21T00:00:12.787060Z"
    }
   }
  },
  {
   "cell_type": "code",
   "execution_count": null,
   "outputs": [],
   "source": [],
   "metadata": {
    "collapsed": false
   }
  }
 ],
 "metadata": {
  "kernelspec": {
   "display_name": "Python 3",
   "language": "python",
   "name": "python3"
  },
  "language_info": {
   "codemirror_mode": {
    "name": "ipython",
    "version": 2
   },
   "file_extension": ".py",
   "mimetype": "text/x-python",
   "name": "python",
   "nbconvert_exporter": "python",
   "pygments_lexer": "ipython2",
   "version": "2.7.6"
  }
 },
 "nbformat": 4,
 "nbformat_minor": 0
}
