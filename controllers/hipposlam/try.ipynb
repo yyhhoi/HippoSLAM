{
 "cells": [
  {
   "cell_type": "code",
   "execution_count": 1,
   "metadata": {
    "collapsed": true,
    "ExecuteTime": {
     "end_time": "2024-03-19T13:26:13.485760600Z",
     "start_time": "2024-03-19T13:26:07.107751800Z"
    }
   },
   "outputs": [],
   "source": [
    "from hipposlam.VAE import convert_to_embed"
   ]
  },
  {
   "cell_type": "code",
   "execution_count": 1,
   "outputs": [],
   "source": [
    "from os.path import join\n",
    "from hipposlam.DataLoaders import LocalContrastiveEmbeddingDataloader\n",
    "project_dir = join('data', 'VAE')\n",
    "load_embed_dir = join(project_dir, 'embeds')\n",
    "load_annotation_pth = join(project_dir, 'annotations.csv')\n",
    "dataset = LocalContrastiveEmbeddingDataloader(load_annotation_pth, load_embed_dir, 2, datainds=[0, 10032])"
   ],
   "metadata": {
    "collapsed": false,
    "ExecuteTime": {
     "end_time": "2024-03-19T13:47:09.336571500Z",
     "start_time": "2024-03-19T13:47:03.586181500Z"
    }
   }
  },
  {
   "cell_type": "code",
   "execution_count": 2,
   "outputs": [],
   "source": [
    "x, labels, sim_mask, dismask = next(dataset.iterate())"
   ],
   "metadata": {
    "collapsed": false,
    "ExecuteTime": {
     "end_time": "2024-03-19T13:47:09.343015900Z",
     "start_time": "2024-03-19T13:47:09.336571500Z"
    }
   }
  },
  {
   "cell_type": "code",
   "execution_count": 5,
   "outputs": [],
   "source": [
    "import matplotlib.pyplot as plt"
   ],
   "metadata": {
    "collapsed": false,
    "ExecuteTime": {
     "end_time": "2024-03-19T13:47:30.372233500Z",
     "start_time": "2024-03-19T13:47:30.371716200Z"
    }
   }
  },
  {
   "cell_type": "code",
   "execution_count": 6,
   "outputs": [
    {
     "data": {
      "text/plain": "<matplotlib.image.AxesImage at 0x2321f579090>"
     },
     "execution_count": 6,
     "metadata": {},
     "output_type": "execute_result"
    },
    {
     "data": {
      "text/plain": "<Figure size 1000x500 with 2 Axes>",
      "image/png": "[encoded data removed]"
     },
     "metadata": {},
     "output_type": "display_data"
    }
   ],
   "source": [
    "fig, ax = plt.subplots(1, 2, figsize=(10, 5))\n",
    "\n",
    "ax[0].imshow(sim_mask)\n",
    "ax[1].imshow(dismask)"
   ],
   "metadata": {
    "collapsed": false,
    "ExecuteTime": {
     "end_time": "2024-03-19T13:47:54.907482900Z",
     "start_time": "2024-03-19T13:47:54.676718100Z"
    }
   }
  },
  {
   "cell_type": "code",
   "execution_count": 6,
   "outputs": [
    {
     "data": {
      "text/plain": "tensor([[0.4834, 0.2159, 0.5524,  ..., 0.2220, 0.7817, 0.2295],\n        [0.3591, 0.7418, 0.1802,  ..., 0.3479, 0.4185, 0.4305],\n        [0.5680, 1.3190, 0.2201,  ..., 0.6139, 0.5738, 0.3120],\n        ...,\n        [0.4016, 0.4694, 0.2826,  ..., 0.1326, 0.1414, 0.0301],\n        [0.4011, 0.3952, 0.2213,  ..., 0.1224, 0.1651, 0.0017],\n        [0.3404, 0.3997, 0.3155,  ..., 0.1513, 0.1741, 0.0297]])"
     },
     "execution_count": 6,
     "metadata": {},
     "output_type": "execute_result"
    }
   ],
   "source": [
    "import torch\n",
    "foo = torch.load('data/VAE/embeds/all.pt')\n",
    "foo"
   ],
   "metadata": {
    "collapsed": false,
    "ExecuteTime": {
     "end_time": "2024-03-19T13:27:31.895688900Z",
     "start_time": "2024-03-19T13:27:31.855454300Z"
    }
   }
  },
  {
   "cell_type": "code",
   "execution_count": 4,
   "outputs": [],
   "source": [
    "from hipposlam.VAE import combine_embeds\n",
    "combine_embeds('data/VAE/embeds')\n"
   ],
   "metadata": {
    "collapsed": false,
    "ExecuteTime": {
     "end_time": "2024-03-19T13:27:12.372112200Z",
     "start_time": "2024-03-19T13:27:02.626404800Z"
    }
   }
  },
  {
   "cell_type": "code",
   "execution_count": 21,
   "outputs": [
    {
     "data": {
      "text/plain": "tensor([ 0, 19, 48, 57])"
     },
     "execution_count": 21,
     "metadata": {},
     "output_type": "execute_result"
    }
   ],
   "source": [
    "inds = torch.where(torch.diff(t) < 1)[0] +1\n",
    "inds = torch.concat([torch.tensor([0]), inds, torch.tensor([t.shape[0]])])\n",
    "\n",
    "for i in range(len(inds)-1):\n",
    "    print(inds[i], inds[i+1])\n",
    "    print(t[inds[i]:inds[i+1]])\n",
    "# torch.append()"
   ],
   "metadata": {
    "collapsed": false,
    "ExecuteTime": {
     "end_time": "2024-03-19T12:48:29.060271100Z",
     "start_time": "2024-03-19T12:48:29.048271900Z"
    }
   }
  },
  {
   "cell_type": "code",
   "execution_count": 23,
   "outputs": [
    {
     "data": {
      "text/plain": "tensor([1, 2, 3, 4, 5, 6, 7, 8, 9])"
     },
     "execution_count": 23,
     "metadata": {},
     "output_type": "execute_result"
    }
   ],
   "source": [
    "tslice = t[inds[i]:inds[i+1]]\n",
    "tslice"
   ],
   "metadata": {
    "collapsed": false,
    "ExecuteTime": {
     "end_time": "2024-03-19T12:52:08.215068800Z",
     "start_time": "2024-03-19T12:52:08.208386100Z"
    }
   }
  },
  {
   "cell_type": "code",
   "execution_count": 28,
   "outputs": [
    {
     "data": {
      "text/plain": "tensor([[False,  True,  True, False, False, False, False, False, False],\n        [ True, False,  True,  True, False, False, False, False, False],\n        [ True,  True, False,  True,  True, False, False, False, False],\n        [False,  True,  True, False,  True,  True, False, False, False],\n        [False, False,  True,  True, False,  True,  True, False, False],\n        [False, False, False,  True,  True, False,  True,  True, False],\n        [False, False, False, False,  True,  True, False,  True,  True],\n        [False, False, False, False, False,  True,  True, False,  True],\n        [False, False, False, False, False, False,  True,  True, False]])"
     },
     "execution_count": 28,
     "metadata": {},
     "output_type": "execute_result"
    }
   ],
   "source": [
    "context_window = 2\n",
    "dt = torch.abs(tslice.reshape(-1, 1) - tslice.reshape(1, -1))\n",
    "\n",
    "sim_mask = (dt <=2) & (dt > 0)"
   ],
   "metadata": {
    "collapsed": false,
    "ExecuteTime": {
     "end_time": "2024-03-19T12:54:41.564638100Z",
     "start_time": "2024-03-19T12:54:41.547652300Z"
    }
   }
  }
 ],
 "metadata": {
  "kernelspec": {
   "display_name": "Python 3",
   "language": "python",
   "name": "python3"
  },
  "language_info": {
   "codemirror_mode": {
    "name": "ipython",
    "version": 2
   },
   "file_extension": ".py",
   "mimetype": "text/x-python",
   "name": "python",
   "nbconvert_exporter": "python",
   "pygments_lexer": "ipython2",
   "version": "2.7.6"
  }
 },
 "nbformat": 4,
 "nbformat_minor": 0
}
